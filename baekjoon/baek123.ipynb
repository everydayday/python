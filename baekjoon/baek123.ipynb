{
 "cells": [
  {
   "cell_type": "code",
   "execution_count": null,
   "metadata": {},
   "outputs": [],
   "source": [
    "import sys\n",
    "N = int(input())\n",
    "  \n",
    "data = int([d.rstrip() for d in sys.stdin.readlines()]) # EOF\n",
    "print(\"\\n\".join(map(str,sorted(data))))\n"
   ]
  },
  {
   "cell_type": "code",
   "execution_count": 1,
   "metadata": {},
   "outputs": [],
   "source": [
    "import json\n",
    "\n",
    "data = '{\"name\" : \"kim\", \"age\" : 24}'\n",
    "with open('member.json', 'w') as w_file:\n",
    "    json.dump(data, w_file)"
   ]
  },
  {
   "cell_type": "code",
   "execution_count": 7,
   "metadata": {},
   "outputs": [
    {
     "name": "stdout",
     "output_type": "stream",
     "text": [
      "{'name': 'Lee', 'age': 24} <class 'dict'>\n",
      "{\"name\": \"Lee\", \"age\": 24} <class 'str'>\n",
      "{'name': 'Lee', 'age': 24} <class 'str'> Lee\n"
     ]
    }
   ],
   "source": [
    "import json\n",
    "\n",
    "data = '{\"name\" : \"kim\", \"age\" : 24}'\n",
    "member = {\"name\": \"Lee\", \"age\":24}\n",
    "with open('member2.json', 'w') as w_file:\n",
    "    json.dump(member, w_file)\n",
    "\n",
    "with open('member2.json','r') as r_file:\n",
    "    d = json.load(r_file)\n",
    "    print(d, type(d))\n",
    "\n",
    "d2 = json.dumps(member)\n",
    "print(d2, type(d2))\n",
    "\n",
    "d3 = json.loads(d2)\n",
    "print(d3, type(d2), d3[\"name\"])"
   ]
  },
  {
   "cell_type": "code",
   "execution_count": 12,
   "metadata": {},
   "outputs": [],
   "source": [
    "import pickle\n",
    "\n",
    "with open('dump_member.pk', 'wb') as w_file:\n",
    "    pickle.dump([1,2,3,4,5], w_file)\n"
   ]
  },
  {
   "cell_type": "code",
   "execution_count": null,
   "metadata": {},
   "outputs": [],
   "source": [
    "f = lambda:map(int,input().split())\n",
    "n,m = f();b=[*range(1,n+1)]\n",
    "for _ in range(m):i,j=f();b[i-1:j]=b[i-1:j][::-1]\n",
    "print(*b)"
   ]
  },
  {
   "cell_type": "code",
   "execution_count": 5,
   "metadata": {},
   "outputs": [
    {
     "ename": "ValueError",
     "evalue": "not enough values to unpack (expected 2, got 0)",
     "output_type": "error",
     "traceback": [
      "\u001b[1;31m---------------------------------------------------------------------------\u001b[0m",
      "\u001b[1;31mValueError\u001b[0m                                Traceback (most recent call last)",
      "Cell \u001b[1;32mIn[5], line 2\u001b[0m\n\u001b[0;32m      1\u001b[0m f \u001b[38;5;241m=\u001b[39m \u001b[38;5;28;01mlambda\u001b[39;00m:\u001b[38;5;28mmap\u001b[39m(\u001b[38;5;28mint\u001b[39m,\u001b[38;5;28minput\u001b[39m()\u001b[38;5;241m.\u001b[39msplit())\n\u001b[1;32m----> 2\u001b[0m n,m \u001b[38;5;241m=\u001b[39m f();b\u001b[38;5;241m=\u001b[39m[\u001b[38;5;241m*\u001b[39m\u001b[38;5;28mrange\u001b[39m(\u001b[38;5;241m1\u001b[39m,n\u001b[38;5;241m+\u001b[39m\u001b[38;5;241m1\u001b[39m)]\n\u001b[0;32m      3\u001b[0m \u001b[38;5;28;01mfor\u001b[39;00m _ \u001b[38;5;129;01min\u001b[39;00m \u001b[38;5;28mrange\u001b[39m(m):i,j \u001b[38;5;241m=\u001b[39m f();b[i\u001b[38;5;241m-\u001b[39m\u001b[38;5;241m1\u001b[39m:j] \u001b[38;5;241m=\u001b[39m b[i\u001b[38;5;241m-\u001b[39m\u001b[38;5;241m1\u001b[39m:j][::\u001b[38;5;241m-\u001b[39m\u001b[38;5;241m1\u001b[39m]\n\u001b[0;32m      4\u001b[0m \u001b[38;5;28mprint\u001b[39m(\u001b[38;5;241m*\u001b[39mb)\n",
      "\u001b[1;31mValueError\u001b[0m: not enough values to unpack (expected 2, got 0)"
     ]
    }
   ],
   "source": [
    "import digits"
   ]
  },
  {
   "cell_type": "code",
   "execution_count": 8,
   "metadata": {},
   "outputs": [
    {
     "name": "stdout",
     "output_type": "stream",
     "text": [
      "0123456789abcdefghijklmnopqrstuvwxyz\n"
     ]
    }
   ],
   "source": [
    "import string\n",
    "print(string.digits+string.ascii_lowercase)"
   ]
  },
  {
   "cell_type": "code",
   "execution_count": null,
   "metadata": {},
   "outputs": [],
   "source": []
  }
 ],
 "metadata": {
  "kernelspec": {
   "display_name": "Python 3",
   "language": "python",
   "name": "python3"
  },
  "language_info": {
   "codemirror_mode": {
    "name": "ipython",
    "version": 3
   },
   "file_extension": ".py",
   "mimetype": "text/x-python",
   "name": "python",
   "nbconvert_exporter": "python",
   "pygments_lexer": "ipython3",
   "version": "3.9.13"
  }
 },
 "nbformat": 4,
 "nbformat_minor": 2
}
